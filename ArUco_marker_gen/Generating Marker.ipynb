{
 "cells": [
  {
   "cell_type": "code",
   "execution_count": null,
   "metadata": {},
   "outputs": [],
   "source": [
    "import cv2\n",
    "import numpy as np"
   ]
  },
  {
   "cell_type": "code",
   "execution_count": null,
   "metadata": {},
   "outputs": [],
   "source": [
    "# Generating Markers\n",
    "dictionary = cv2.aruco.getPredefinedDictionary(cv2.aruco.DICT_6X6_250)\n",
    "images = []\n",
    "length = 10\n",
    "for i in range(length):\n",
    "    # generate aruco markers\n",
    "    img = cv2.aruco.drawMarker(dictionary,i,200,1)\n",
    "    cv2.imwrite(\"aruco_diction_joint_{}.png\".format(i),img)"
   ]
  },
  {
   "cell_type": "code",
   "execution_count": null,
   "metadata": {},
   "outputs": [],
   "source": [
    "# hint about the marker's profile/identity\n",
    "parameters = cv2.aruco.DetectorParameters_create()\n",
    "dictionary_1 = cv2.aruco.getPredefinedDictionary(cv2.aruco.DICT_6X6_250)"
   ]
  },
  {
   "cell_type": "code",
   "execution_count": null,
   "metadata": {},
   "outputs": [],
   "source": [
    "# detect marker\n",
    "markerCorners, markerIds, rejectedCandidates = cv2.aruco.detectMarkers(img,dictionary_1)"
   ]
  },
  {
   "cell_type": "code",
   "execution_count": null,
   "metadata": {},
   "outputs": [],
   "source": [
    "# detect marker\n",
    "markerCorners, markerIds, rejectedCandidates = cv2.aruco.detectMarkers(img,dictionary_1)"
   ]
  },
  {
   "cell_type": "code",
   "execution_count": null,
   "metadata": {},
   "outputs": [],
   "source": [
    "# visualize the detected marker\n",
    "img_clone =  img\n",
    "img_clone = cv2.aruco.drawDetectedMarkers(img_clone, markerCorners, markerIds)"
   ]
  }
 ],
 "metadata": {
  "kernelspec": {
   "display_name": "Python 3.7.11 ('RL_local')",
   "language": "python",
   "name": "python3"
  },
  "language_info": {
   "codemirror_mode": {
    "name": "ipython",
    "version": 3
   },
   "file_extension": ".py",
   "mimetype": "text/x-python",
   "name": "python",
   "nbconvert_exporter": "python",
   "pygments_lexer": "ipython3",
   "version": "3.7.11"
  },
  "vscode": {
   "interpreter": {
    "hash": "b10ac996f15756f49e2691e65b14dec4f6d695b94930975bb3a5137f4d6d1975"
   }
  }
 },
 "nbformat": 4,
 "nbformat_minor": 4
}
