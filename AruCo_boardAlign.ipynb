{
 "cells": [
  {
   "cell_type": "code",
   "execution_count": 1,
   "metadata": {},
   "outputs": [],
   "source": [
    "# import the necessary packages\n",
    "import argparse\n",
    "import sys\n",
    "sys.path.remove('/opt/ros/kinetic/lib/python2.7/dist-packages')\n",
    "import imutils\n",
    "import cv2"
   ]
  },
  {
   "cell_type": "code",
   "execution_count": 10,
   "metadata": {},
   "outputs": [],
   "source": [
    "# define names of each possible ArUco tag OpenCV supports\n",
    "ARUCO_DICT = {\n",
    "\t\"DICT_4X4_50\": cv2.aruco.DICT_4X4_50,\n",
    "\t\"DICT_4X4_100\": cv2.aruco.DICT_4X4_100,\n",
    "\t\"DICT_4X4_250\": cv2.aruco.DICT_4X4_250,\n",
    "\t\"DICT_4X4_1000\": cv2.aruco.DICT_4X4_1000,\n",
    "\t\"DICT_5X5_50\": cv2.aruco.DICT_5X5_50,\n",
    "\t\"DICT_5X5_100\": cv2.aruco.DICT_5X5_100,\n",
    "\t\"DICT_5X5_250\": cv2.aruco.DICT_5X5_250,\n",
    "\t\"DICT_5X5_1000\": cv2.aruco.DICT_5X5_1000,\n",
    "\t\"DICT_6X6_50\": cv2.aruco.DICT_6X6_50,\n",
    "\t\"DICT_6X6_100\": cv2.aruco.DICT_6X6_100,\n",
    "\t\"DICT_6X6_250\": cv2.aruco.DICT_6X6_250,\n",
    "\t\"DICT_6X6_1000\": cv2.aruco.DICT_6X6_1000,\n",
    "\t\"DICT_7X7_50\": cv2.aruco.DICT_7X7_50,\n",
    "\t\"DICT_7X7_100\": cv2.aruco.DICT_7X7_100,\n",
    "\t\"DICT_7X7_250\": cv2.aruco.DICT_7X7_250,\n",
    "\t\"DICT_7X7_1000\": cv2.aruco.DICT_7X7_1000,\n",
    "\t\"DICT_ARUCO_ORIGINAL\": cv2.aruco.DICT_ARUCO_ORIGINAL,\n",
    "\t\"DICT_APRILTAG_16h5\": cv2.aruco.DICT_APRILTAG_16h5,\n",
    "\t\"DICT_APRILTAG_25h9\": cv2.aruco.DICT_APRILTAG_25h9,\n",
    "\t\"DICT_APRILTAG_36h10\": cv2.aruco.DICT_APRILTAG_36h10,\n",
    "\t\"DICT_APRILTAG_36h11\": cv2.aruco.DICT_APRILTAG_36h11\n",
    "}"
   ]
  },
  {
   "cell_type": "code",
   "execution_count": 14,
   "metadata": {},
   "outputs": [],
   "source": [
    "# image images/example_01.png --type DICT_5X5_100\n",
    "# construct the argument parser and parse the arguments\n",
    "# ap = argparse.ArgumentParser()\n",
    "# ap.add_argument(\"-i\", \"--image\",default='maze_from_sim_circle.png', required=True,\n",
    "# \thelp=\"path to input image containing ArUCo tag\")\n",
    "# ap.add_argument(\"-t\", \"--type\", type=str,\n",
    "# \tdefault=\"DICT_ARUCO_ORIGINAL\",\n",
    "# \thelp=\"type of ArUCo tag to detect\")\n",
    "# args = vars(ap.parse_args())\n",
    "\n",
    "args = {\n",
    "    'image':'coppeliaSim_circle.png',#chessboard.tiff\n",
    "    'type':'DICT_6X6_250'\n",
    "}"
   ]
  },
  {
   "cell_type": "code",
   "execution_count": 15,
   "metadata": {},
   "outputs": [
    {
     "name": "stdout",
     "output_type": "stream",
     "text": [
      "[INFO] loading image...\n",
      "[INFO] detecting 'DICT_6X6_250' tags...\n",
      "[]\n"
     ]
    }
   ],
   "source": [
    "# load the input image from disk and resize it\n",
    "print(\"[INFO] loading image...\")\n",
    "image = cv2.imread(args[\"image\"])\n",
    "image = imutils.resize(image, width=600)\n",
    "# verify that the supplied ArUCo tag exists and is supported by\n",
    "# OpenCV\n",
    "if ARUCO_DICT.get(args[\"type\"], None) is None:\n",
    "\tprint(\"[INFO] ArUCo tag of '{}' is not supported\".format(\n",
    "\t\targs[\"type\"]))\n",
    "\tsys.exit(0)\n",
    "# load the ArUCo dictionary, grab the ArUCo parameters, and detect\n",
    "# the markers\n",
    "print(\"[INFO] detecting '{}' tags...\".format(args[\"type\"]))\n",
    "arucoDict = cv2.aruco.Dictionary_get(ARUCO_DICT[args[\"type\"]])\n",
    "arucoParams = cv2.aruco.DetectorParameters_create()\n",
    "(corners, ids, rejected) = cv2.aruco.detectMarkers(image, arucoDict,\n",
    "\tparameters=arucoParams)\n",
    "print(corners)\n",
    "cv2.imshow(\"Image\", image);cv2.waitKey(0);cv2.destroyAllWindows()"
   ]
  },
  {
   "cell_type": "code",
   "execution_count": 13,
   "metadata": {},
   "outputs": [],
   "source": [
    "# verify *at least* one ArUco marker was detected\n",
    "if len(corners) > 0:\n",
    "\t# flatten the ArUco IDs list\n",
    "\tids = ids.flatten()\n",
    "\t# loop over the detected ArUCo corners\n",
    "\tfor (markerCorner, markerID) in zip(corners, ids):\n",
    "\t\t# extract the marker corners (which are always returned in\n",
    "\t\t# top-left, top-right, bottom-right, and bottom-left order)\n",
    "\t\tcorners = markerCorner.reshape((4, 2))\n",
    "\t\t(topLeft, topRight, bottomRight, bottomLeft) = corners\n",
    "\t\t# convert each of the (x, y)-coordinate pairs to integers\n",
    "\t\ttopRight = (int(topRight[0]), int(topRight[1]))\n",
    "\t\tbottomRight = (int(bottomRight[0]), int(bottomRight[1]))\n",
    "\t\tbottomLeft = (int(bottomLeft[0]), int(bottomLeft[1]))\n",
    "\t\ttopLeft = (int(topLeft[0]), int(topLeft[1]))\n",
    "        \n",
    "        \t\t# draw the bounding box of the ArUCo detection\n",
    "\t\tcv2.line(image, topLeft, topRight, (0, 255, 0), 2)\n",
    "\t\tcv2.line(image, topRight, bottomRight, (0, 255, 0), 2)\n",
    "\t\tcv2.line(image, bottomRight, bottomLeft, (0, 255, 0), 2)\n",
    "\t\tcv2.line(image, bottomLeft, topLeft, (0, 255, 0), 2)\n",
    "\t\t# compute and draw the center (x, y)-coordinates of the ArUco\n",
    "\t\t# marker\n",
    "\t\tcX = int((topLeft[0] + bottomRight[0]) / 2.0)\n",
    "\t\tcY = int((topLeft[1] + bottomRight[1]) / 2.0)\n",
    "\t\tcv2.circle(image, (cX, cY), 4, (0, 0, 255), -1)\n",
    "\t\t# draw the ArUco marker ID on the image\n",
    "\t\tcv2.putText(image, str(markerID),\n",
    "\t\t\t(topLeft[0], topLeft[1] - 15), cv2.FONT_HERSHEY_SIMPLEX,\n",
    "\t\t\t0.5, (0, 255, 0), 2)\n",
    "\t\tprint(\"[INFO] ArUco marker ID: {}\".format(markerID))\n",
    "\t\t# show the output image\n",
    "\t\tcv2.imshow(\"Image\", image);cv2.waitKey(0);cv2.destroyAllWindows()"
   ]
  }
 ],
 "metadata": {
  "kernelspec": {
   "display_name": "Python 3.6.12 64-bit ('pyrep_rl': conda)",
   "language": "python",
   "name": "python361264bitpyreprlcondaee363f98ce5846619f262650dc1d8e45"
  },
  "language_info": {
   "codemirror_mode": {
    "name": "ipython",
    "version": 3
   },
   "file_extension": ".py",
   "mimetype": "text/x-python",
   "name": "python",
   "nbconvert_exporter": "python",
   "pygments_lexer": "ipython3",
   "version": "3.6.12"
  }
 },
 "nbformat": 4,
 "nbformat_minor": 4
}
